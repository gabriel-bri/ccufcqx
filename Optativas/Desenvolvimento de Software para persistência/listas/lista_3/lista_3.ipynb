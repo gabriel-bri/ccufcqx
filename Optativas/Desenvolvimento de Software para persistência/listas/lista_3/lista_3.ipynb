{
  "nbformat": 4,
  "nbformat_minor": 0,
  "metadata": {
    "colab": {
      "provenance": []
    },
    "kernelspec": {
      "name": "python3",
      "display_name": "Python 3"
    },
    "language_info": {
      "name": "python"
    }
  },
  "cells": [
    {
      "cell_type": "code",
      "source": [
        "!pip install beautifulsoup4\n",
        "!pip install pytesseract\n",
        "!apt install tesseract-ocr\n",
        "!pip install PyPDF2"
      ],
      "metadata": {
        "colab": {
          "base_uri": "https://localhost:8080/"
        },
        "id": "IEYo18nERb0P",
        "outputId": "48941e17-9f78-4146-f858-18e61ac1edc3"
      },
      "execution_count": 18,
      "outputs": [
        {
          "output_type": "stream",
          "name": "stdout",
          "text": [
            "Requirement already satisfied: beautifulsoup4 in /usr/local/lib/python3.10/dist-packages (4.12.3)\n",
            "Requirement already satisfied: soupsieve>1.2 in /usr/local/lib/python3.10/dist-packages (from beautifulsoup4) (2.6)\n",
            "Requirement already satisfied: pytesseract in /usr/local/lib/python3.10/dist-packages (0.3.13)\n",
            "Requirement already satisfied: packaging>=21.3 in /usr/local/lib/python3.10/dist-packages (from pytesseract) (24.2)\n",
            "Requirement already satisfied: Pillow>=8.0.0 in /usr/local/lib/python3.10/dist-packages (from pytesseract) (11.0.0)\n",
            "Reading package lists... Done\n",
            "Building dependency tree... Done\n",
            "Reading state information... Done\n",
            "tesseract-ocr is already the newest version (4.1.1-2.1build1).\n",
            "0 upgraded, 0 newly installed, 0 to remove and 49 not upgraded.\n",
            "Requirement already satisfied: PyPDF2 in /usr/local/lib/python3.10/dist-packages (3.0.1)\n"
          ]
        }
      ]
    },
    {
      "cell_type": "code",
      "source": [
        "# Importação da bibliotecas necessárias.\n",
        "from bs4 import BeautifulSoup\n",
        "import requests\n",
        "import pytesseract\n",
        "from PyPDF2 import PdfReader\n",
        "from PIL import Image"
      ],
      "metadata": {
        "id": "5-6g5CkbsOuo"
      },
      "execution_count": 19,
      "outputs": []
    },
    {
      "cell_type": "code",
      "execution_count": null,
      "metadata": {
        "colab": {
          "base_uri": "https://localhost:8080/"
        },
        "id": "uFKgZhOocaOW",
        "outputId": "71e71687-fe25-42e8-b93f-6bb8d7af8f2c"
      },
      "outputs": [
        {
          "output_type": "stream",
          "name": "stdout",
          "text": [
            "O título do site é:  Portal da UFC - Universidade Federal do Ceará - Página Inicial\n",
            "https://www.ufc.br/#conteudo\n",
            "https://www.ufc.br/#menu-principal\n",
            "https://www.ufc.br/#rodape\n",
            "https://www.ufc.br/acessibilidade\n",
            "http://www.brasil.gov.br\n",
            "http://www.acessoainformacao.gov.br\n",
            "https://www.ufc.br/alunos\n",
            "https://www.ufc.br/servidoress\n",
            "https://www.ufc.br/ufc-digital\n",
            "https://www.ufc.br/contatos\n",
            "http://www.ufc.br/noticias/noticias-de-2022?format=feed&type=rss\n",
            "https://www.linkedin.com/school/ufcinforma\n",
            "https://www.flickr.com/photos/ufc-informa/\n",
            "https://www.instagram.com/ufcinforma/\n",
            "https://twitter.com/ufcinforma\n",
            "https://www.facebook.com/ufcinforma\n",
            "https://www.ufc.br/#menu-principal\n",
            "https://www.ufc.br/a-universidade\n",
            "https://www.ufc.br/ensino\n",
            "https://www.ufc.br/pesquisa\n",
            "https://www.ufc.br/extensao\n",
            "https://www.ufc.br/internacional\n",
            "https://www.ufc.br/noticias\n",
            "https://www.ufc.br/ouvidoria\n",
            "http://www.ufc.br/acessoainformacao\n",
            "http://www.lesc.ufc.br/embrapii/\n",
            "https://agenda.ufc.br/\n",
            "https://agenda.ufc.br/evento/fortalecer-feminismos/\n",
            "https://agenda.ufc.br/evento/xvii-jornada-do-histedbr/\n",
            "https://agenda.ufc.br/evento/3-novembro-da-memoria-negra/\n",
            "https://agenda.ufc.br/evento/ii-semana-da-fruticultura/\n",
            "https://agenda.ufc.br/evento/1o-seminario-regional-do-nordeste-sobre-educacao-infantil/\n",
            "https://www.ufc.br/noticias/19051-prae-lanca-edital-de-selecao-para-auxilio-concludente-inscricoes-estao-abertas-ate-12-de-novembro\n",
            "https://www.ufc.br/noticias/18939-acompanhe-as-novidades-sobre-os-encontros-universitarios-2024\n",
            "https://www.ufc.br/noticias/18966-ufc-lanca-edital-de-concurso-com-144-vagas-para-servidores-tecnico-administrativos-inscricoes-comecam-em-30-10\n",
            "https://www.ufc.br/noticias/18982-ufc-convida-comunidade-academica-para-responder-questionario-sobre-perfil-e-demandas-linguisticas\n",
            "https://www.ufc.br/noticias/19063-prae-e-proplad-entregam-65-novos-equipamentos-para-residencias-universitarias-nesta-terca-feira-12\n",
            "https://www.ufc.br/noticias/19063-prae-e-proplad-entregam-65-novos-equipamentos-para-residencias-universitarias-nesta-terca-feira-12\n",
            "https://www.ufc.br/noticias/19062-aviso-de-indisponibilidade-de-internet-na-ufc-nesta-terca-feira-12-manutencao-do-sistema-pop-ce\n",
            "https://www.ufc.br/noticias/19062-aviso-de-indisponibilidade-de-internet-na-ufc-nesta-terca-feira-12-manutencao-do-sistema-pop-ce\n",
            "https://www.ufc.br/noticias/19059-ufc-disponibiliza-faq-do-enade-das-licenciaturas-2024-para-tirar-duvidas-de-estudantes\n",
            "https://www.ufc.br/noticias/19059-ufc-disponibiliza-faq-do-enade-das-licenciaturas-2024-para-tirar-duvidas-de-estudantes\n",
            "https://www.ufc.br/noticias/noticias-de-2024\n",
            "https://www.ufc.br/noticias/noticias-da-reitoria/19058-vice-reitora-participa-de-seminario-sobre-autonomia-universitaria-em-recife-e-modera-palestra-de-cristovam-buarque\n",
            "https://www.ufc.br/noticias/noticias-da-reitoria/19058-vice-reitora-participa-de-seminario-sobre-autonomia-universitaria-em-recife-e-modera-palestra-de-cristovam-buarque\n",
            "https://www.ufc.br/noticias/noticias-da-reitoria/19054-participacao-da-vice-reitora-da-ufc-em-evento-realizado-pelo-ita-fortalece-parcerias-entre-as-instituicoes-na-pesquisa-e-pos-graduacao\n",
            "https://www.ufc.br/noticias/noticias-da-reitoria/19054-participacao-da-vice-reitora-da-ufc-em-evento-realizado-pelo-ita-fortalece-parcerias-entre-as-instituicoes-na-pesquisa-e-pos-graduacao\n",
            "https://www.ufc.br/noticias/noticias-da-reitoria/19041-reitor-e-vice-reitora-do-ita-participam-de-reuniao-na-reitoria-da-ufc-para-tratar-de-futuras-parcerias-entre-as-instituicoes\n",
            "https://www.ufc.br/noticias/noticias-da-reitoria/19041-reitor-e-vice-reitora-do-ita-participam-de-reuniao-na-reitoria-da-ufc-para-tratar-de-futuras-parcerias-entre-as-instituicoes\n",
            "https://www.ufc.br/noticias/noticias-da-reitoria\n",
            "https://www.ufc.br/noticias/19057-estudantes-da-ufc-conquistam-medalhas-de-ouro-e-prata-na-olimpiada-ibero-americana-de-matematica-universitaria\n",
            "https://www.ufc.br/noticias/19055-pesquisadores-da-ufc-ganham-premio-nacional-com-trabalho-sobre-avaliacao-de-politicas-de-desenvolvimento-regional\n",
            "https://www.ufc.br/noticias/19053-reunindo-mais-de-15-mil-pessoas-eu-se-consolidam-como-maior-evento-de-divulgacao-cientifica-e-cultural-da-ufc\n",
            "https://www.ufc.br/noticias/19051-prae-lanca-edital-de-selecao-para-auxilio-concludente-inscricoes-estao-abertas-ate-12-de-novembro\n",
            "https://www.ufc.br/noticias/19049-professor-da-ufc-e-finalista-na-categoria-traducao-do-premio-jabuti-2024-com-a-obra-odes-olimpicas-de-pindaro\n",
            "https://www.ufc.br/noticias/19048-trabalho-de-pesquisadores-da-ufc-sobre-sensores-de-qualidade-do-ar-e-premiado-em-evento-na-tailandia-sobre-cidades-inteligentes\n",
            "https://www.ufc.br/noticias/19047-pro-reitoria-de-inovacao-e-relacoes-interinstitucionais-prointer-e-reestruturada-com-a-integracao-da-coordenadoria-de-propriedade-intelectual-e-transferencia-de-tecnologia\n",
            "https://www.ufc.br/noticias/19046-secretaria-de-meio-ambiente-da-ufc-e-prefeitura-de-fortaleza-realizam-limpeza-do-acude-santo-anastacio-do-campus-do-pici\n",
            "https://www.ufc.br/noticias/19045-entenda-o-que-e-doutora-honoris-causa-o-titulo-que-maria-bethania-e-maria-da-penha-vao-receber-da-ufc\n",
            "https://www.ufc.br/noticias/19043-ufc-70-anos-divulgados-os-trabalhos-finalistas-da-primeira-edicao-do-premio-ufc-de-jornalismo\n",
            "https://www.ufc.br/noticias/19038-consuni-aprova-titulo-de-doutor-honoris-causa-a-ativista-maria-da-penha-e-ao-escritor-rodolfo-teofilo\n",
            "https://www.ufc.br/noticias/noticias-de-2024\n",
            "https://www.ufc.br/noticias/noticias-e-editais-de-concursos-e-selecoes/19016-selecao-para-mestrado-em-computacao-do-campus-de-quixada-recebe-inscricoes-ate-22-11\n",
            "https://www.ufc.br/noticias/noticias-e-editais-de-concursos-e-selecoes/19012-mestrado-profissional-em-artes-oferta-296-vagas-em-todo-o-pais-ufc-conta-com-14-oportunidades\n",
            "https://www.ufc.br/noticias/noticias-e-editais-de-concursos-e-selecoes/19011-programa-de-pos-graduacao-em-fisioterapia-e-funcionalidade-oferta-41-vagas-para-turma-de-mestrado-de-2025\n",
            "https://www.ufc.br/noticias/noticias-e-editais-de-concursos-e-selecoes/18991-ufc-lanca-edital-de-concurso-com-144-vagas-para-servidores-tecnico-administrativos-inscricoes-comecam-em-30-10\n",
            "https://www.ufc.br/noticias/noticias-e-editais-de-concursos-e-selecoes/18988-pos-graduacao-em-educacao-recebe-inscricoes-para-selecao-de-mestrado-e-doutorado\n",
            "https://www.ufc.br/noticias/noticias-e-editais-de-concursos-e-selecoes\n",
            "https://emec.mec.gov.br/emec/consulta-cadastro/detalhamento/d96957f455f6405d14c6542552b0f6eb/NTgz\n",
            "https://www.ufc.br/noticias/noticias-ufctv\n",
            "https://www.youtube.com/channel/UCY85wHK1Z3LJyKB7XQ-pJ0g\n",
            "https://www.ufc.br/radio-universitaria-fm\n",
            "http://www.radiouniversitariafm.com.br\n",
            "http://get.adobe.com/flashplayer/\n",
            "https://www.ufc.br/component/banners/click/51\n",
            "https://www.ufc.br/agenda-do-reitor\n",
            "https://www.ufc.br/agenda-da-vice-reitora\n",
            "https://www.ufc.br/calendario-universitario/2024-ajuste-pos-greve\n",
            "https://www.ufc.br/comissao-de-etica-da-ufc\n",
            "https://www.ufc.br/biblioteca\n",
            "https://www.ufc.br/comunicacao-e-marketing/equipe-responsavel-e-contato\n",
            "https://www.ufc.br/cultura-e-arte\n",
            "https://www.ufc.br/desporto-universitario\n",
            "https://www.ufc.br/editais-e-concursos/graduacao\n",
            "https://www.ufc.br/gestao-ambiental\n",
            "https://www.ufc.br/hospitais-e-saude\n",
            "https://www.ufc.br/licitacoes\n",
            "https://www.ufc.br/memoria-da-ufc\n",
            "https://www.ufc.br/noticias/noticias-e-editais-de-concursos-e-selecoes\n",
            "https://www.ufc.br/noticias/notas-de-pesar\n",
            "https://www.ufc.br/component/banners/click/3\n",
            "https://www.ufc.br/component/banners/click/1\n",
            "https://www.ufc.br/component/banners/click/45\n",
            "https://www.ufc.br/component/banners/click/50\n",
            "https://www.ufc.br/component/banners/click/6\n",
            "https://www.ufc.br/component/banners/click/8\n",
            "https://www.ufc.br/component/banners/click/10\n",
            "https://www.ufc.br/component/banners/click/28\n",
            "https://www.ufc.br/component/banners/click/7\n",
            "https://www.ufc.br/component/banners/click/30\n",
            "https://www.ufc.br/component/banners/click/32\n",
            "https://www.ufc.br/component/banners/click/33\n",
            "https://www.ufc.br/component/banners/click/36\n",
            "https://www.ufc.br/component/banners/click/37\n",
            "https://www.ufc.br/component/banners/click/35\n",
            "https://www.ufc.br/component/banners/click/39\n",
            "https://www.ufc.br/component/banners/click/40\n",
            "https://www.ufc.br/component/banners/click/41\n",
            "https://www.ufc.br/component/banners/click/42\n",
            "https://www.ufc.br/component/banners/click/43\n",
            "https://www.ufc.br/component/banners/click/44\n",
            "https://www.ufc.br/component/banners/click/46\n",
            "https://www.ufc.br/component/banners/click/47\n",
            "https://www.ufc.br/component/banners/click/48\n",
            "https://www.ufc.br/biblioteca\n",
            "https://www.ufc.br/comunicacao-e-marketing/equipe-responsavel-e-contato\n",
            "https://www.ufc.br/cultura-e-arte\n",
            "https://www.ufc.br/desporto-universitario\n",
            "https://www.ufc.br/editais-e-concursos/graduacao\n",
            "https://www.ufc.br/gestao-ambiental\n",
            "https://www.ufc.br/hospitais-e-saude\n",
            "https://www.ufc.br/licitacoes\n",
            "https://www.ufc.br/memoria-da-ufc\n",
            "https://www.ufc.br/noticias/noticias-e-editais-de-concursos-e-selecoes\n",
            "https://www.ufc.br/noticias/notas-de-pesar\n",
            "https://www.ufc.br/sobre-o-sitio\n",
            "https://www.ufc.br/component/banners/click/11\n",
            "https://www.ufc.br/component/banners/click/12\n",
            "https://www.google.com.br/maps/place/Av.+da+Universidade,+2853+-+Benfica,+Fortaleza+-+CE,+60020-181/@-3.7418722,-38.5409871,17z/data=!3m1!4b1!4m5!3m4!1s0x7c7491020890039:0x2abd7761d35693b2!8m2!3d-3.7418722!4d-38.5387984\n",
            "http://www.sti.ufc.br\n"
          ]
        }
      ],
      "source": [
        "# 1. Scraping de Websites com BeautifulSoup\n",
        "# Objetivo: Praticar a extração de dados de um site usando scraping.\n",
        "# Tarefa: Usando a biblioteca BeautifulSoup, escreva um código que extraia e imprima o título\n",
        "# e todos os links de uma página web. A URL pode ser qualquer página pública, como https://example.com.\n",
        "resposta = requests.get(\"https://www.ufc.br\")\n",
        "corpo_site = BeautifulSoup(resposta.content, \"html.parser\")\n",
        "\n",
        "titulo_site = corpo_site.title.string\n",
        "\n",
        "print(\"O título do site é: \", titulo_site)\n",
        "\n",
        "links = corpo_site.find_all(\"a\")\n",
        "links_tratado = []\n",
        "\n",
        "for link in links:\n",
        "    href = link.get(\"href\")\n",
        "    if href and href != '#' and href != '/':\n",
        "        if href.startswith('#'):\n",
        "          links_tratado.append(\"https://www.ufc.br/\" + href)\n",
        "\n",
        "        elif href.startswith('/'):\n",
        "          links_tratado.append(\"https://www.ufc.br\" + href)\n",
        "\n",
        "        else:\n",
        "          links_tratado.append(href)\n",
        "\n",
        "for link_tratado in links_tratado:\n",
        "  print(link_tratado)"
      ]
    },
    {
      "cell_type": "code",
      "source": [
        "# Pega um imagem e PDF qualquer pra baixar\n",
        "!wget -O extrair_texto_imagem.jpg https://images.wondershare.com/pdfelement/ocr/ocr-test-image-04.jpg\n",
        "!wget -O extrair_texto_pdf.pdf https://pdfobject.com/pdf/sample.pdf"
      ],
      "metadata": {
        "id": "6zAqyryddTxT",
        "colab": {
          "base_uri": "https://localhost:8080/"
        },
        "outputId": "8d3f0741-84a9-4995-9d68-2f13c57af80f"
      },
      "execution_count": 13,
      "outputs": [
        {
          "output_type": "stream",
          "name": "stdout",
          "text": [
            "--2024-11-14 12:17:16--  https://images.wondershare.com/pdfelement/ocr/ocr-test-image-04.jpg\n",
            "Resolving images.wondershare.com (images.wondershare.com)... 23.55.178.7, 23.55.178.5\n",
            "Connecting to images.wondershare.com (images.wondershare.com)|23.55.178.7|:443... connected.\n",
            "HTTP request sent, awaiting response... 200 OK\n",
            "Length: 8492 (8.3K) [image/jpeg]\n",
            "Saving to: ‘extrair_texto_imagem.jpg’\n",
            "\n",
            "extrair_texto_image 100%[===================>]   8.29K  --.-KB/s    in 0.001s  \n",
            "\n",
            "2024-11-14 12:17:16 (13.7 MB/s) - ‘extrair_texto_imagem.jpg’ saved [8492/8492]\n",
            "\n",
            "--2024-11-14 12:17:16--  https://pdfobject.com/pdf/sample.pdf\n",
            "Resolving pdfobject.com (pdfobject.com)... 185.199.108.153, 185.199.110.153, 185.199.111.153, ...\n",
            "Connecting to pdfobject.com (pdfobject.com)|185.199.108.153|:443... connected.\n",
            "HTTP request sent, awaiting response... 200 OK\n",
            "Length: 18810 (18K) [application/pdf]\n",
            "Saving to: ‘extrair_texto_pdf.pdf’\n",
            "\n",
            "extrair_texto_pdf.p 100%[===================>]  18.37K  --.-KB/s    in 0.001s  \n",
            "\n",
            "2024-11-14 12:17:16 (15.9 MB/s) - ‘extrair_texto_pdf.pdf’ saved [18810/18810]\n",
            "\n"
          ]
        }
      ]
    },
    {
      "cell_type": "code",
      "source": [
        "# 2. Extração de Texto de Imagens com OCR\n",
        "# Usando pytesseract e PIL, escreva um código para carregar uma imagem,\n",
        "# extrair o texto nela contido e salvar o resultado num arquivo txt..\n",
        "imagem = Image.open(\"/content/extrair_texto_imagem.jpg\")\n",
        "texto = pytesseract.image_to_string(imagem)\n",
        "\n",
        "with open(\"texto_extraido.txt\", 'w') as resultado:\n",
        "  resultado.write(texto)"
      ],
      "metadata": {
        "colab": {
          "base_uri": "https://localhost:8080/"
        },
        "id": "XEeeg2CVdnMc",
        "outputId": "b7a21e02-1739-4e17-a7ed-9dfa99bedbae"
      },
      "execution_count": 20,
      "outputs": [
        {
          "output_type": "stream",
          "name": "stdout",
          "text": [
            "Sample PDFThis is a simple PDF ﬁle. Fun fun fun.Lorem ipsum dolor sit amet, consectetuer adipiscing elit. Phasellus facilisis odio sed mi. Curabitur suscipit. Nullam vel nisi. Etiam semper ipsum ut lectus. Proin aliquam, erat eget pharetra commodo, eros mi condimentum quam, sed commodo justo quam ut velit. Integer a erat. Cras laoreet ligula cursus enim. Aenean scelerisque velit et tellus. Vestibulum dictum aliquet sem. Nulla facilisi. Vestibulum accumsan ante vitae elit. Nulla erat dolor, blandit in, rutrum quis, semper pulvinar, enim. Nullam varius congue risus. Vivamus sollicitudin, metus ut interdum eleifend, nisi tellus pellentesque elit, tristique accumsan eros quam et risus. Suspendisse libero odio, mattis sit amet, aliquet eget, hendrerit vel, nulla. Sed vitae augue. Aliquam erat volutpat. Aliquam feugiat vulputate nisl. Suspendisse quis nulla pretium ante pretium mollis. Proin velit ligula, sagittis at, egestas a, pulvinar quis, nisl.Pellentesque sit amet lectus. Praesent pulvinar, nunc quis iaculis sagittis, justo quam lobortis tortor, sed vestibulum dui metus venenatis est. Nunc cursus ligula. Nulla facilisi. Phasellus ullamcorper consectetuer ante. Duis tincidunt, urna id condimentum luctus, nibh ante vulputate sapien, id sagittis massa orci ut enim. Pellentesque vestibulum convallis sem. Nulla consequat quam ut nisl. Nullam est. Curabitur tincidunt dapibus lorem. Proin velit turpis, scelerisque sit amet, iaculis nec, rhoncus ac, ipsum. Phasellus lorem arcu, feugiat eu, gravida eu, consequat molestie, ipsum. Nullam vel est ut ipsum volutpat feugiat. Aenean pellentesque.In mauris. Pellentesque dui nisi, iaculis eu, rhoncus in, venenatis ac, ante. Ut odio justo, scelerisque vel, facilisis non, commodo a, pede. Cras nec massa sit amet tortor volutpat varius. Donec lacinia, neque a luctus aliquet, pede massa imperdiet ante, at varius lorem pede sed sapien. Fusce erat nibh, aliquet in, eleifend eget, commodo eget, erat. Fusce consectetuer. Cras risus tortor, porttitor nec, tristique sed, convallis semper, eros. Fusce vulputate ipsum a mauris. Phasellus mollis. Curabitur sed urna. Aliquam nec sapien non nibh pulvinar convallis. Vivamus facilisis augue quis quam. Proin cursus aliquet metus. Suspendisse lacinia. Nulla at tellus ac turpis eleifend scelerisque. Maecenas a pede vitae enim commodo interdum. Donec odio. Sed sollicitudin dui vitae justo.Morbi elit nunc, facilisis a, mollis a, molestie at, lectus. Suspendisse eget mauris eu tellus molestie cursus. Duis ut magna at justo dignissim condimentum. Cum sociis natoque penatibus et magnis dis parturient montes, nascetur ridiculus mus. Vivamus varius. Ut sit amet diam suscipit mauris ornare aliquam. Sed varius. Duis arcu. Etiam tristique massa eget dui. Phasellus congue. Aenean est erat, tincidunt eget, venenatis quis, commodo at, quam.\n"
          ]
        }
      ]
    },
    {
      "cell_type": "code",
      "source": [
        "import os\n",
        "\n",
        "def extrair_html(url):\n",
        "  resposta = requests.get(url)\n",
        "  corpo_site = BeautifulSoup(resposta.content, \"html.parser\")\n",
        "\n",
        "  print(\"Tipo: HTML, conteúdo: \\n\")\n",
        "  titulo_site = corpo_site.title.string\n",
        "\n",
        "  print(\"O título do site é: \", titulo_site)\n",
        "\n",
        "  links = corpo_site.find_all(\"a\")\n",
        "  links_tratado = []\n",
        "\n",
        "  for link in links:\n",
        "      href = link.get(\"href\")\n",
        "      if href and href != '#' and href != '/':\n",
        "          if href.startswith('#'):\n",
        "            links_tratado.append(url + \"/\" + href)\n",
        "\n",
        "          elif href.startswith('/'):\n",
        "            links_tratado.append(url + href)\n",
        "\n",
        "          else:\n",
        "            links_tratado.append(href)\n",
        "\n",
        "  for link_tratado in links_tratado:\n",
        "    print(link_tratado)\n",
        "\n",
        "def extrair_pdf(caminho_pdf):\n",
        "  if not os.path.exists(caminho_pdf):\n",
        "      print(\"Arquivo não encontrado, verifique o caminho e tente novamente.\")\n",
        "      return\n",
        "\n",
        "  print(\"Tipo: Arquivo, conteúdo:\")\n",
        "\n",
        "  arquivo_pdf = PdfReader(caminho_pdf)\n",
        "  for paginas in arquivo_pdf.pages:\n",
        "      print(paginas.extract_text())\n",
        "\n",
        "def extrair_imagem(caminho_imagem):\n",
        "    if not os.path.exists(caminho_imagem):\n",
        "      print(\"Arquivo não encontrado, verifique o caminho e tente novamente.\")\n",
        "      return\n",
        "\n",
        "    imagem = Image.open(caminho_imagem)\n",
        "    texto = pytesseract.image_to_string(imagem)\n",
        "    print(\"Tipo: Imagem, conteúdo: \" + texto)\n",
        "\n",
        "def validacao(entrada):\n",
        "  if entrada.lower().startswith(\"https://\") or entrada.lower().startswith(\"http://\"):\n",
        "    extrair_html(entrada)\n",
        "\n",
        "  elif entrada.lower().endswith(\".jpg\") or entrada.lower().endswith(\".jpeg\") or entrada.lower().endswith(\".png\"):\n",
        "      extrair_imagem(entrada)\n",
        "\n",
        "  elif entrada.lower().endswith(\".pdf\"):\n",
        "      extrair_pdf(entrada)\n",
        "\n",
        "  else:\n",
        "    raise ValueError(\"Formato não suportado. Forneça uma URL, um PDF ou uma imagem.\")\n",
        "\n",
        "entrada = input(\"Digite a URL ou o caminho do arquuvo a ser analisado: \")\n",
        "\n",
        "validacao(entrada)"
      ],
      "metadata": {
        "colab": {
          "base_uri": "https://localhost:8080/"
        },
        "id": "luEFFxQ3rpJz",
        "outputId": "3b1c8215-8d40-48e0-be0e-63c5cf770794"
      },
      "execution_count": 24,
      "outputs": [
        {
          "output_type": "stream",
          "name": "stdout",
          "text": [
            "Digite a URL ou o caminho do arquuvo a ser analisado: /content/extrair_texto_pdf.pdf\n",
            "Tipo: Arquivo, conteúdo:\n",
            "Sample PDFThis is a simple PDF ﬁle. Fun fun fun.Lorem ipsum dolor sit amet, consectetuer adipiscing elit. Phasellus facilisis odio sed mi. Curabitur suscipit. Nullam vel nisi. Etiam semper ipsum ut lectus. Proin aliquam, erat eget pharetra commodo, eros mi condimentum quam, sed commodo justo quam ut velit. Integer a erat. Cras laoreet ligula cursus enim. Aenean scelerisque velit et tellus. Vestibulum dictum aliquet sem. Nulla facilisi. Vestibulum accumsan ante vitae elit. Nulla erat dolor, blandit in, rutrum quis, semper pulvinar, enim. Nullam varius congue risus. Vivamus sollicitudin, metus ut interdum eleifend, nisi tellus pellentesque elit, tristique accumsan eros quam et risus. Suspendisse libero odio, mattis sit amet, aliquet eget, hendrerit vel, nulla. Sed vitae augue. Aliquam erat volutpat. Aliquam feugiat vulputate nisl. Suspendisse quis nulla pretium ante pretium mollis. Proin velit ligula, sagittis at, egestas a, pulvinar quis, nisl.Pellentesque sit amet lectus. Praesent pulvinar, nunc quis iaculis sagittis, justo quam lobortis tortor, sed vestibulum dui metus venenatis est. Nunc cursus ligula. Nulla facilisi. Phasellus ullamcorper consectetuer ante. Duis tincidunt, urna id condimentum luctus, nibh ante vulputate sapien, id sagittis massa orci ut enim. Pellentesque vestibulum convallis sem. Nulla consequat quam ut nisl. Nullam est. Curabitur tincidunt dapibus lorem. Proin velit turpis, scelerisque sit amet, iaculis nec, rhoncus ac, ipsum. Phasellus lorem arcu, feugiat eu, gravida eu, consequat molestie, ipsum. Nullam vel est ut ipsum volutpat feugiat. Aenean pellentesque.In mauris. Pellentesque dui nisi, iaculis eu, rhoncus in, venenatis ac, ante. Ut odio justo, scelerisque vel, facilisis non, commodo a, pede. Cras nec massa sit amet tortor volutpat varius. Donec lacinia, neque a luctus aliquet, pede massa imperdiet ante, at varius lorem pede sed sapien. Fusce erat nibh, aliquet in, eleifend eget, commodo eget, erat. Fusce consectetuer. Cras risus tortor, porttitor nec, tristique sed, convallis semper, eros. Fusce vulputate ipsum a mauris. Phasellus mollis. Curabitur sed urna. Aliquam nec sapien non nibh pulvinar convallis. Vivamus facilisis augue quis quam. Proin cursus aliquet metus. Suspendisse lacinia. Nulla at tellus ac turpis eleifend scelerisque. Maecenas a pede vitae enim commodo interdum. Donec odio. Sed sollicitudin dui vitae justo.Morbi elit nunc, facilisis a, mollis a, molestie at, lectus. Suspendisse eget mauris eu tellus molestie cursus. Duis ut magna at justo dignissim condimentum. Cum sociis natoque penatibus et magnis dis parturient montes, nascetur ridiculus mus. Vivamus varius. Ut sit amet diam suscipit mauris ornare aliquam. Sed varius. Duis arcu. Etiam tristique massa eget dui. Phasellus congue. Aenean est erat, tincidunt eget, venenatis quis, commodo at, quam.\n"
          ]
        }
      ]
    }
  ]
}