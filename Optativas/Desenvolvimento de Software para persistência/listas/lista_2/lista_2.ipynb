{
  "nbformat": 4,
  "nbformat_minor": 0,
  "metadata": {
    "colab": {
      "provenance": []
    },
    "kernelspec": {
      "name": "python3",
      "display_name": "Python 3"
    },
    "language_info": {
      "name": "python"
    }
  },
  "cells": [
    {
      "cell_type": "code",
      "source": [
        "# Objetivo: Criar um programa que leia e processe arquivos de texto,\n",
        "# escreva os resultados em um novo arquivo e compacte o arquivo de saída em um ZIP.\n",
        "import os\n",
        "from zipfile import ZipFile"
      ],
      "metadata": {
        "id": "94C-FlmNHfPT"
      },
      "execution_count": null,
      "outputs": []
    },
    {
      "cell_type": "code",
      "source": [
        "# O código lê todos os arquivos .txt da pasta textos.\n",
        "arquivos_validos = []\n",
        "arquivos_zip = []\n",
        "diretorio = \"/content/sample_data/textos\"\n",
        "\n",
        "try:\n",
        "  conteudos_diretorio = os.listdir(diretorio)\n",
        "\n",
        "  if not conteudos_diretorio:\n",
        "    print(f\"O diretório {diretorio} está vazio.\")\n",
        "\n",
        "  else:\n",
        "    for conteudo_diretorio in conteudos_diretorio:\n",
        "        if conteudo_diretorio.endswith(\".txt\") | conteudo_diretorio.endswith(\".zip\"):\n",
        "            arquivos_validos.append(conteudo_diretorio)\n",
        "\n",
        "        if conteudo_diretorio.endswith(\".zip\"):\n",
        "            arquivos_zip.append(conteudo_diretorio)\n",
        "\n",
        "  if not arquivos_validos:\n",
        "    print(f\"Nenhum arquivo válido para processamento foi encontrado no diretório {diretorio}\")\n",
        "    execucao_bem_sucedida = False\n",
        "\n",
        "  if not arquivos_zip:\n",
        "    print(f\"Nenhum arquivo zip foi encontrado no diretório {diretorio}\")\n",
        "\n",
        "except FileNotFoundError:\n",
        "    print(f\"O diretório '{diretorio}' não foi encontrado.\")\n",
        "    execucao_bem_sucedida = False\n",
        "\n",
        "except PermissionError:\n",
        "    print(f\"Permissão negada para acessar o diretório '{diretorio}'.\")\n",
        "    execucao_bem_sucedida = False\n",
        "\n",
        "except Exception as e:\n",
        "    print(f\"Ocorreu um erro: {e}\")\n",
        "    execucao_bem_sucedida = False\n",
        "\n",
        "# Exibe os arquivos válidos e .zip encontrados\n",
        "if arquivos_validos:\n",
        "    print(\"Arquivos válidos para processamento encontrados:\", arquivos_validos)\n",
        "if arquivos_zip:\n",
        "    print(\"Arquivos válidos para processamento encontrados:\", arquivos_zip)"
      ],
      "metadata": {
        "id": "fVV2jAIwJkXf",
        "colab": {
          "base_uri": "https://localhost:8080/"
        },
        "outputId": "69a131d1-710c-4a65-c2e4-2c10e9cd831c"
      },
      "execution_count": null,
      "outputs": [
        {
          "output_type": "stream",
          "name": "stdout",
          "text": [
            "Nenhum arquivo válido para processamento foi encontrado no diretório /content/sample_data/textos\n",
            "Nenhum arquivo zip foi encontrado no diretório /content/sample_data/textos\n"
          ]
        }
      ]
    },
    {
      "cell_type": "code",
      "source": [
        "if 'execucao_bem_sucedida' in locals() and execucao_bem_sucedida:\n",
        "  estatistica_arquivos = []\n",
        "  for arquivo in range(len(arquivos_validos)):\n",
        "    # Junta o caminho do diretório ao nome do arquivo\n",
        "    caminho_arquivo = os.path.join(diretorio, arquivos_validos[arquivo])\n",
        "\n",
        "    # Abre o arquivo\n",
        "    with open(caminho_arquivo, 'r') as arquivo:\n",
        "      # Ler todas as linhas do arquivo\n",
        "      linhas_arquivo = arquivo.readlines()\n",
        "\n",
        "      # Inicialização dos contadores\n",
        "      total_palavras, total_caracteres = 0, 0\n",
        "      # Exibe somente as linhas não vazias\n",
        "      for linha_arquivo in linhas_arquivo:\n",
        "        if linha_arquivo.strip():\n",
        "          # Calcula o total de caracteres\n",
        "          total_caracteres += len(linha_arquivo.strip())\n",
        "          # Calcula o total de palavras\n",
        "          palavras = linha_arquivo.strip()\n",
        "          total_palavras += len(palavras.split())\n",
        "      # Armazenamento das estatísticas dos arquivos\n",
        "      estatistica_arquivos.append(f\"{os.path.basename(caminho_arquivo)}: {total_palavras} palavras e {total_caracteres} caracteres.\")\n",
        "else:\n",
        "  print(\"Não é possível realizar o processamento no momento\")"
      ],
      "metadata": {
        "colab": {
          "base_uri": "https://localhost:8080/"
        },
        "id": "CM9tRGH-L2V6",
        "outputId": "c42bd444-87a5-4270-8da0-e343d5cfd451"
      },
      "execution_count": null,
      "outputs": [
        {
          "output_type": "stream",
          "name": "stdout",
          "text": [
            "Não é possível realizar o processamento no momento\n"
          ]
        }
      ]
    },
    {
      "cell_type": "code",
      "source": [
        "# Escreve o nome do arquivo e as estatísticas no arquivo consolidado.txt.\n",
        "if 'execucao_bem_sucedida' in locals() and execucao_bem_sucedida:\n",
        "  with open(\"consolidado.txt\", \"w\") as relatorio:\n",
        "    for dados in range(len(estatistica_arquivos)):\n",
        "      relatorio.write(estatistica_arquivos[dados] + \"\\n\")\n",
        "else:\n",
        "  print(\"Não é possível realizar o processamento no momento\")"
      ],
      "metadata": {
        "colab": {
          "base_uri": "https://localhost:8080/"
        },
        "id": "25oSzr5CgXNS",
        "outputId": "000afee4-9432-474d-b4e6-461477f5f602"
      },
      "execution_count": null,
      "outputs": [
        {
          "output_type": "stream",
          "name": "stdout",
          "text": [
            "Não é possível realizar o processamento no momento\n"
          ]
        }
      ]
    },
    {
      "cell_type": "code",
      "source": [
        "# Etapa 3: Compactar em um arquivo ZIP\n",
        "if 'execucao_bem_sucedida' in locals() and execucao_bem_sucedida:\n",
        "  with ZipFile(\"saida.zip\", \"w\") as arquivo_zipado:\n",
        "      arquivo_zipado.write(\"consolidado.txt\")\n",
        "else:\n",
        "  print(\"Não é possível realizar o processamento no momento\")"
      ],
      "metadata": {
        "id": "KUVSNZotIoPH",
        "colab": {
          "base_uri": "https://localhost:8080/"
        },
        "outputId": "02e4c5b8-24bf-44ab-ac7d-fa2bb00c85fe"
      },
      "execution_count": null,
      "outputs": [
        {
          "output_type": "stream",
          "name": "stdout",
          "text": [
            "Não é possível realizar o processamento no momento\n"
          ]
        }
      ]
    }
  ]
}